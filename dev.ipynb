{
 "cells": [
  {
   "cell_type": "code",
   "execution_count": 1,
   "metadata": {},
   "outputs": [
    {
     "data": {
      "text/plain": [
       "Right { value: \u001b[33m3\u001b[39m }"
      ]
     },
     "execution_count": 1,
     "metadata": {},
     "output_type": "execute_result"
    }
   ],
   "source": [
    "import { E } from './haskellian/mod.ts'\n",
    "import { Either } from './haskellian/src/either/mod.ts';\n",
    "\n",
    "const sum = E.doN((a: Either<any, number>, b: Either<any, number>) => {\n",
    "  return a.unsafe() + b.unsafe()\n",
    "})\n",
    "\n",
    "sum(Either.right(1), Either.right(2))"
   ]
  }
 ],
 "metadata": {
  "kernelspec": {
   "display_name": "Deno",
   "language": "typescript",
   "name": "deno"
  },
  "language_info": {
   "file_extension": ".ts",
   "mimetype": "text/x.typescript",
   "name": "typescript",
   "nb_converter": "script",
   "pygments_lexer": "typescript",
   "version": "5.3.3"
  }
 },
 "nbformat": 4,
 "nbformat_minor": 2
}
