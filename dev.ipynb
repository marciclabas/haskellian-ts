{
 "cells": [
  {
   "cell_type": "code",
   "execution_count": 6,
   "metadata": {},
   "outputs": [
    {
     "data": {
      "text/plain": [
       "Promise {\n",
       "  \u001b[36m<pending>\u001b[39m,\n",
       "  resolve: \u001b[36m[Function: resolve]\u001b[39m,\n",
       "  reject: \u001b[36m[Function: reject]\u001b[39m,\n",
       "  status: \u001b[32m\"pending\"\u001b[39m\n",
       "}"
      ]
     },
     "execution_count": 6,
     "metadata": {},
     "output_type": "execute_result"
    }
   ],
   "source": [
    "import { managedPromise } from './haskellian/src/promise/mod.ts'\n",
    "managedPromise()"
   ]
  }
 ],
 "metadata": {
  "kernelspec": {
   "display_name": "Deno",
   "language": "typescript",
   "name": "deno"
  },
  "language_info": {
   "file_extension": ".ts",
   "mimetype": "text/x.typescript",
   "name": "typescript",
   "nb_converter": "script",
   "pygments_lexer": "typescript",
   "version": "5.3.3"
  }
 },
 "nbformat": 4,
 "nbformat_minor": 2
}
